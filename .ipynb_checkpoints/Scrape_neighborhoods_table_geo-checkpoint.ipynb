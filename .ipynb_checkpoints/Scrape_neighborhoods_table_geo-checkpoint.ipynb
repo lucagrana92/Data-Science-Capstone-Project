{
 "cells": [
  {
   "cell_type": "markdown",
   "metadata": {},
   "source": [
    "# Toronto neighborhoods clustering"
   ]
  },
  {
   "cell_type": "markdown",
   "metadata": {},
   "source": [
    "## Creating the dataframe"
   ]
  },
  {
   "cell_type": "code",
   "execution_count": 1,
   "metadata": {},
   "outputs": [
    {
     "name": "stdout",
     "output_type": "stream",
     "text": [
      "Requirement already satisfied: lxml in c:\\users\\lucagranalli\\appdata\\local\\programs\\python\\python36\\lib\\site-packages (4.5.0)\n"
     ]
    }
   ],
   "source": [
    "! pip install lxml"
   ]
  },
  {
   "cell_type": "code",
   "execution_count": 1,
   "metadata": {},
   "outputs": [],
   "source": [
    "import json\n",
    "import requests\n",
    "from lxml import html\n",
    "import pandas as pd"
   ]
  },
  {
   "cell_type": "code",
   "execution_count": 2,
   "metadata": {},
   "outputs": [],
   "source": [
    "pd.set_option('display.max_rows', 200)"
   ]
  },
  {
   "cell_type": "code",
   "execution_count": 3,
   "metadata": {},
   "outputs": [],
   "source": [
    "url = \"https://en.wikipedia.org/wiki/List_of_postal_codes_of_Canada:_M\"\n",
    "page = requests.get(url)\n",
    "tree = html.fromstring(page.content)"
   ]
  },
  {
   "cell_type": "markdown",
   "metadata": {},
   "source": [
    "Let's take a look at the source code: the table is indicated with the class _wikitable sortable_ ."
   ]
  },
  {
   "cell_type": "code",
   "execution_count": 4,
   "metadata": {},
   "outputs": [],
   "source": [
    "pos = tree.find_class(\"wikitable sortable\")[0]\n",
    "headers = [col.text.strip('\\n') for col in pos[0][0]]\n",
    "data = pos.xpath('//tbody//tr//td/text()')\n",
    "l = len(headers)\n",
    "\n",
    "pos_list = []\n",
    "\n",
    "for n in range(0,len(data)-1, l):\n",
    "    try:\n",
    "        pos_list.append([it.strip('\\n').replace(' /',',') for it in data[n:n+l]])\n",
    "    except:\n",
    "        print('error in line: {}\\n could not add to list'.format((n-n%l)/l))\n"
   ]
  },
  {
   "cell_type": "code",
   "execution_count": 5,
   "metadata": {},
   "outputs": [
    {
     "data": {
      "text/html": [
       "<div>\n",
       "<style scoped>\n",
       "    .dataframe tbody tr th:only-of-type {\n",
       "        vertical-align: middle;\n",
       "    }\n",
       "\n",
       "    .dataframe tbody tr th {\n",
       "        vertical-align: top;\n",
       "    }\n",
       "\n",
       "    .dataframe thead th {\n",
       "        text-align: right;\n",
       "    }\n",
       "</style>\n",
       "<table border=\"1\" class=\"dataframe\">\n",
       "  <thead>\n",
       "    <tr style=\"text-align: right;\">\n",
       "      <th></th>\n",
       "      <th>Postal code</th>\n",
       "      <th>Borough</th>\n",
       "      <th>Neighborhood</th>\n",
       "    </tr>\n",
       "  </thead>\n",
       "  <tbody>\n",
       "    <tr>\n",
       "      <th>0</th>\n",
       "      <td>M1A</td>\n",
       "      <td>Not assigned</td>\n",
       "      <td></td>\n",
       "    </tr>\n",
       "    <tr>\n",
       "      <th>1</th>\n",
       "      <td>M2A</td>\n",
       "      <td>Not assigned</td>\n",
       "      <td></td>\n",
       "    </tr>\n",
       "    <tr>\n",
       "      <th>2</th>\n",
       "      <td>M3A</td>\n",
       "      <td>North York</td>\n",
       "      <td>Parkwoods</td>\n",
       "    </tr>\n",
       "    <tr>\n",
       "      <th>3</th>\n",
       "      <td>M4A</td>\n",
       "      <td>North York</td>\n",
       "      <td>Victoria Village</td>\n",
       "    </tr>\n",
       "    <tr>\n",
       "      <th>4</th>\n",
       "      <td>M5A</td>\n",
       "      <td>Downtown Toronto</td>\n",
       "      <td>Regent Park, Harbourfront</td>\n",
       "    </tr>\n",
       "  </tbody>\n",
       "</table>\n",
       "</div>"
      ],
      "text/plain": [
       "  Postal code           Borough               Neighborhood\n",
       "0         M1A      Not assigned                           \n",
       "1         M2A      Not assigned                           \n",
       "2         M3A        North York                  Parkwoods\n",
       "3         M4A        North York           Victoria Village\n",
       "4         M5A  Downtown Toronto  Regent Park, Harbourfront"
      ]
     },
     "execution_count": 5,
     "metadata": {},
     "output_type": "execute_result"
    }
   ],
   "source": [
    "df_poscode = pd.DataFrame(pos_list, columns=headers)\n",
    "df_poscode.head()"
   ]
  },
  {
   "cell_type": "markdown",
   "metadata": {},
   "source": [
    "Data cleaning"
   ]
  },
  {
   "cell_type": "code",
   "execution_count": 6,
   "metadata": {},
   "outputs": [],
   "source": [
    "df_poscode = df_poscode[(df_poscode['Postal code'] != '') & (df_poscode.Borough != 'Not assigned')]\n",
    "df_poscode.reset_index(drop=True, inplace=True)"
   ]
  },
  {
   "cell_type": "code",
   "execution_count": 7,
   "metadata": {},
   "outputs": [
    {
     "data": {
      "text/html": [
       "<div>\n",
       "<style scoped>\n",
       "    .dataframe tbody tr th:only-of-type {\n",
       "        vertical-align: middle;\n",
       "    }\n",
       "\n",
       "    .dataframe tbody tr th {\n",
       "        vertical-align: top;\n",
       "    }\n",
       "\n",
       "    .dataframe thead th {\n",
       "        text-align: right;\n",
       "    }\n",
       "</style>\n",
       "<table border=\"1\" class=\"dataframe\">\n",
       "  <thead>\n",
       "    <tr style=\"text-align: right;\">\n",
       "      <th></th>\n",
       "      <th>Postal code</th>\n",
       "      <th>Borough</th>\n",
       "      <th>Neighborhood</th>\n",
       "    </tr>\n",
       "  </thead>\n",
       "  <tbody>\n",
       "    <tr>\n",
       "      <th>0</th>\n",
       "      <td>M3A</td>\n",
       "      <td>North York</td>\n",
       "      <td>Parkwoods</td>\n",
       "    </tr>\n",
       "    <tr>\n",
       "      <th>1</th>\n",
       "      <td>M4A</td>\n",
       "      <td>North York</td>\n",
       "      <td>Victoria Village</td>\n",
       "    </tr>\n",
       "    <tr>\n",
       "      <th>2</th>\n",
       "      <td>M5A</td>\n",
       "      <td>Downtown Toronto</td>\n",
       "      <td>Regent Park, Harbourfront</td>\n",
       "    </tr>\n",
       "    <tr>\n",
       "      <th>3</th>\n",
       "      <td>M6A</td>\n",
       "      <td>North York</td>\n",
       "      <td>Lawrence Manor, Lawrence Heights</td>\n",
       "    </tr>\n",
       "    <tr>\n",
       "      <th>4</th>\n",
       "      <td>M7A</td>\n",
       "      <td>Downtown Toronto</td>\n",
       "      <td>Queen's Park, Ontario Provincial Government</td>\n",
       "    </tr>\n",
       "  </tbody>\n",
       "</table>\n",
       "</div>"
      ],
      "text/plain": [
       "  Postal code           Borough                                 Neighborhood\n",
       "0         M3A        North York                                    Parkwoods\n",
       "1         M4A        North York                             Victoria Village\n",
       "2         M5A  Downtown Toronto                    Regent Park, Harbourfront\n",
       "3         M6A        North York             Lawrence Manor, Lawrence Heights\n",
       "4         M7A  Downtown Toronto  Queen's Park, Ontario Provincial Government"
      ]
     },
     "execution_count": 7,
     "metadata": {},
     "output_type": "execute_result"
    }
   ],
   "source": [
    "df_poscode.head()"
   ]
  },
  {
   "cell_type": "code",
   "execution_count": 8,
   "metadata": {},
   "outputs": [
    {
     "name": "stdout",
     "output_type": "stream",
     "text": [
      "N rows in the dataframe: 103\n"
     ]
    }
   ],
   "source": [
    "print('N rows in the dataframe: {}'.format(df_poscode.shape[0]))"
   ]
  },
  {
   "cell_type": "markdown",
   "metadata": {},
   "source": [
    "## Getting geographical position of neighborhoods"
   ]
  },
  {
   "cell_type": "code",
   "execution_count": 9,
   "metadata": {},
   "outputs": [
    {
     "name": "stdout",
     "output_type": "stream",
     "text": [
      "Requirement already satisfied: pgeocode in c:\\users\\lucagranalli\\appdata\\local\\programs\\python\\python36\\lib\\site-packages (0.2.1)\n",
      "Requirement already satisfied: numpy in c:\\users\\lucagranalli\\appdata\\local\\programs\\python\\python36\\lib\\site-packages (from pgeocode) (1.16.4)\n",
      "Requirement already satisfied: pandas in c:\\users\\lucagranalli\\appdata\\local\\programs\\python\\python36\\lib\\site-packages (from pgeocode) (0.23.4)\n",
      "Requirement already satisfied: requests in c:\\users\\lucagranalli\\appdata\\local\\programs\\python\\python36\\lib\\site-packages (from pgeocode) (2.22.0)\n",
      "Requirement already satisfied: pytz>=2011k in c:\\users\\lucagranalli\\appdata\\local\\programs\\python\\python36\\lib\\site-packages (from pandas->pgeocode) (2019.3)\n",
      "Requirement already satisfied: python-dateutil>=2.5.0 in c:\\users\\lucagranalli\\appdata\\local\\programs\\python\\python36\\lib\\site-packages (from pandas->pgeocode) (2.8.1)\n",
      "Requirement already satisfied: chardet<3.1.0,>=3.0.2 in c:\\users\\lucagranalli\\appdata\\local\\programs\\python\\python36\\lib\\site-packages (from requests->pgeocode) (3.0.4)\n",
      "Requirement already satisfied: urllib3!=1.25.0,!=1.25.1,<1.26,>=1.21.1 in c:\\users\\lucagranalli\\appdata\\local\\programs\\python\\python36\\lib\\site-packages (from requests->pgeocode) (1.25.7)\n",
      "Requirement already satisfied: idna<2.9,>=2.5 in c:\\users\\lucagranalli\\appdata\\local\\programs\\python\\python36\\lib\\site-packages (from requests->pgeocode) (2.8)\n",
      "Requirement already satisfied: certifi>=2017.4.17 in c:\\users\\lucagranalli\\appdata\\local\\programs\\python\\python36\\lib\\site-packages (from requests->pgeocode) (2019.11.28)\n",
      "Requirement already satisfied: six>=1.5 in c:\\users\\lucagranalli\\appdata\\local\\programs\\python\\python36\\lib\\site-packages (from python-dateutil>=2.5.0->pandas->pgeocode) (1.14.0)\n"
     ]
    },
    {
     "name": "stderr",
     "output_type": "stream",
     "text": [
      "WARNING: You are using pip version 20.0.2; however, version 20.1 is available.\n",
      "You should consider upgrading via the 'c:\\users\\lucagranalli\\appdata\\local\\programs\\python\\python36\\python.exe -m pip install --upgrade pip' command.\n"
     ]
    }
   ],
   "source": [
    "!pip install pgeocode"
   ]
  },
  {
   "cell_type": "code",
   "execution_count": 10,
   "metadata": {},
   "outputs": [],
   "source": [
    "import pgeocode\n",
    "from geopy.geocoders import Nominatim\n",
    "import folium"
   ]
  },
  {
   "cell_type": "code",
   "execution_count": 11,
   "metadata": {
    "scrolled": true
   },
   "outputs": [],
   "source": [
    "import pgeocode\n",
    "nomi = pgeocode.Nominatim('ca')\n",
    "\n",
    "def get_geocoding(zip_code, retry=3):\n",
    "    \n",
    "    for i in range(retry):\n",
    "        geo_series = nomi.query_postal_code(zip_code)\n",
    "        if not geo_series.empty:\n",
    "            break\n",
    "            \n",
    "    geo_series = nomi.query_postal_code(zip_code)\n",
    "    lat, long = geo_series[['latitude', 'longitude']].values\n",
    "    \n",
    "    return lat, long"
   ]
  },
  {
   "cell_type": "code",
   "execution_count": 12,
   "metadata": {
    "scrolled": true
   },
   "outputs": [
    {
     "data": {
      "text/html": [
       "<div>\n",
       "<style scoped>\n",
       "    .dataframe tbody tr th:only-of-type {\n",
       "        vertical-align: middle;\n",
       "    }\n",
       "\n",
       "    .dataframe tbody tr th {\n",
       "        vertical-align: top;\n",
       "    }\n",
       "\n",
       "    .dataframe thead th {\n",
       "        text-align: right;\n",
       "    }\n",
       "</style>\n",
       "<table border=\"1\" class=\"dataframe\">\n",
       "  <thead>\n",
       "    <tr style=\"text-align: right;\">\n",
       "      <th></th>\n",
       "      <th>Postal code</th>\n",
       "      <th>Borough</th>\n",
       "      <th>Neighborhood</th>\n",
       "      <th>Latitude</th>\n",
       "      <th>Longitude</th>\n",
       "    </tr>\n",
       "  </thead>\n",
       "  <tbody>\n",
       "    <tr>\n",
       "      <th>0</th>\n",
       "      <td>M3A</td>\n",
       "      <td>North York</td>\n",
       "      <td>Parkwoods</td>\n",
       "      <td>43.7545</td>\n",
       "      <td>-79.3300</td>\n",
       "    </tr>\n",
       "    <tr>\n",
       "      <th>1</th>\n",
       "      <td>M4A</td>\n",
       "      <td>North York</td>\n",
       "      <td>Victoria Village</td>\n",
       "      <td>43.7276</td>\n",
       "      <td>-79.3148</td>\n",
       "    </tr>\n",
       "    <tr>\n",
       "      <th>2</th>\n",
       "      <td>M5A</td>\n",
       "      <td>Downtown Toronto</td>\n",
       "      <td>Regent Park, Harbourfront</td>\n",
       "      <td>43.6555</td>\n",
       "      <td>-79.3626</td>\n",
       "    </tr>\n",
       "    <tr>\n",
       "      <th>3</th>\n",
       "      <td>M6A</td>\n",
       "      <td>North York</td>\n",
       "      <td>Lawrence Manor, Lawrence Heights</td>\n",
       "      <td>43.7223</td>\n",
       "      <td>-79.4504</td>\n",
       "    </tr>\n",
       "    <tr>\n",
       "      <th>4</th>\n",
       "      <td>M7A</td>\n",
       "      <td>Downtown Toronto</td>\n",
       "      <td>Queen's Park, Ontario Provincial Government</td>\n",
       "      <td>43.6641</td>\n",
       "      <td>-79.3889</td>\n",
       "    </tr>\n",
       "  </tbody>\n",
       "</table>\n",
       "</div>"
      ],
      "text/plain": [
       "  Postal code           Borough                                 Neighborhood  \\\n",
       "0         M3A        North York                                    Parkwoods   \n",
       "1         M4A        North York                             Victoria Village   \n",
       "2         M5A  Downtown Toronto                    Regent Park, Harbourfront   \n",
       "3         M6A        North York             Lawrence Manor, Lawrence Heights   \n",
       "4         M7A  Downtown Toronto  Queen's Park, Ontario Provincial Government   \n",
       "\n",
       "   Latitude  Longitude  \n",
       "0   43.7545   -79.3300  \n",
       "1   43.7276   -79.3148  \n",
       "2   43.6555   -79.3626  \n",
       "3   43.7223   -79.4504  \n",
       "4   43.6641   -79.3889  "
      ]
     },
     "execution_count": 12,
     "metadata": {},
     "output_type": "execute_result"
    }
   ],
   "source": [
    "df_poscode['Latitude'], df_poscode['Longitude'] = zip(*df_poscode['Postal code'].apply(get_geocoding))\n",
    "df_poscode.head()"
   ]
  },
  {
   "cell_type": "markdown",
   "metadata": {},
   "source": [
    "Check for postal codes with no latitude, longitude"
   ]
  },
  {
   "cell_type": "code",
   "execution_count": 13,
   "metadata": {},
   "outputs": [
    {
     "data": {
      "text/html": [
       "<div>\n",
       "<style scoped>\n",
       "    .dataframe tbody tr th:only-of-type {\n",
       "        vertical-align: middle;\n",
       "    }\n",
       "\n",
       "    .dataframe tbody tr th {\n",
       "        vertical-align: top;\n",
       "    }\n",
       "\n",
       "    .dataframe thead th {\n",
       "        text-align: right;\n",
       "    }\n",
       "</style>\n",
       "<table border=\"1\" class=\"dataframe\">\n",
       "  <thead>\n",
       "    <tr style=\"text-align: right;\">\n",
       "      <th></th>\n",
       "      <th>Latitude</th>\n",
       "      <th>Longitude</th>\n",
       "    </tr>\n",
       "  </thead>\n",
       "  <tbody>\n",
       "    <tr>\n",
       "      <th>76</th>\n",
       "      <td>NaN</td>\n",
       "      <td>NaN</td>\n",
       "    </tr>\n",
       "  </tbody>\n",
       "</table>\n",
       "</div>"
      ],
      "text/plain": [
       "    Latitude  Longitude\n",
       "76       NaN        NaN"
      ]
     },
     "execution_count": 13,
     "metadata": {},
     "output_type": "execute_result"
    }
   ],
   "source": [
    "cond = (df_poscode.Latitude.isna()) | (df_poscode.Longitude.isna())\n",
    "df_poscode.loc[cond, ['Latitude', 'Longitude']]"
   ]
  },
  {
   "cell_type": "markdown",
   "metadata": {},
   "source": [
    "Fillig information with data from http://cocl.us/Geospatial_data"
   ]
  },
  {
   "cell_type": "code",
   "execution_count": 14,
   "metadata": {
    "scrolled": true
   },
   "outputs": [
    {
     "name": "stderr",
     "output_type": "stream",
     "text": [
      "  % Total    % Received % Xferd  Average Speed   Time    Time     Time  Current\n",
      "                                 Dload  Upload   Total   Spent    Left  Speed\n",
      "\n",
      "  0     0    0     0    0     0      0      0 --:--:-- --:--:-- --:--:--     0\n",
      "  0     0    0     0    0     0      0      0 --:--:-- --:--:-- --:--:--     0\n",
      "\n",
      "  0     0    0     0    0     0      0      0 --:--:-- --:--:-- --:--:--     0\n",
      "  0     0    0     0    0     0      0      0 --:--:--  0:00:01 --:--:--     0\n",
      "  0     0    0     0    0     0      0      0 --:--:--  0:00:02 --:--:--     0\n",
      "100   524    0   524    0     0    174      0 --:--:--  0:00:03 --:--:--   185\n",
      "\n",
      "  0     0    0     0    0     0      0      0 --:--:--  0:00:03 --:--:--     0\n",
      "  0     0    0     0    0     0      0      0 --:--:--  0:00:03 --:--:--     0\n",
      "\n",
      "  0     0    0     0    0     0      0      0 --:--:--  0:00:04 --:--:--     0\n",
      "\n",
      "  0     0    0     0    0     0      0      0 --:--:--  0:00:04 --:--:--     0\n",
      "100     4    0     4    0     0      0      0 --:--:--  0:00:05 --:--:--     5\n",
      "\n",
      "  0     0    0     0    0     0      0      0 --:--:--  0:00:05 --:--:--     0\n",
      "100  2891  100  2891    0     0    578      0  0:00:05  0:00:05 --:--:--  6381\n"
     ]
    }
   ],
   "source": [
    "!curl -L http://cocl.us/Geospatial_data > toronto_geo.csv"
   ]
  },
  {
   "cell_type": "code",
   "execution_count": 15,
   "metadata": {},
   "outputs": [
    {
     "data": {
      "text/html": [
       "<div>\n",
       "<style scoped>\n",
       "    .dataframe tbody tr th:only-of-type {\n",
       "        vertical-align: middle;\n",
       "    }\n",
       "\n",
       "    .dataframe tbody tr th {\n",
       "        vertical-align: top;\n",
       "    }\n",
       "\n",
       "    .dataframe thead th {\n",
       "        text-align: right;\n",
       "    }\n",
       "</style>\n",
       "<table border=\"1\" class=\"dataframe\">\n",
       "  <thead>\n",
       "    <tr style=\"text-align: right;\">\n",
       "      <th></th>\n",
       "      <th>Postal Code</th>\n",
       "      <th>Latitude</th>\n",
       "      <th>Longitude</th>\n",
       "    </tr>\n",
       "  </thead>\n",
       "  <tbody>\n",
       "    <tr>\n",
       "      <th>0</th>\n",
       "      <td>M1B</td>\n",
       "      <td>43.806686</td>\n",
       "      <td>-79.194353</td>\n",
       "    </tr>\n",
       "    <tr>\n",
       "      <th>1</th>\n",
       "      <td>M1C</td>\n",
       "      <td>43.784535</td>\n",
       "      <td>-79.160497</td>\n",
       "    </tr>\n",
       "    <tr>\n",
       "      <th>2</th>\n",
       "      <td>M1E</td>\n",
       "      <td>43.763573</td>\n",
       "      <td>-79.188711</td>\n",
       "    </tr>\n",
       "    <tr>\n",
       "      <th>3</th>\n",
       "      <td>M1G</td>\n",
       "      <td>43.770992</td>\n",
       "      <td>-79.216917</td>\n",
       "    </tr>\n",
       "    <tr>\n",
       "      <th>4</th>\n",
       "      <td>M1H</td>\n",
       "      <td>43.773136</td>\n",
       "      <td>-79.239476</td>\n",
       "    </tr>\n",
       "  </tbody>\n",
       "</table>\n",
       "</div>"
      ],
      "text/plain": [
       "  Postal Code   Latitude  Longitude\n",
       "0         M1B  43.806686 -79.194353\n",
       "1         M1C  43.784535 -79.160497\n",
       "2         M1E  43.763573 -79.188711\n",
       "3         M1G  43.770992 -79.216917\n",
       "4         M1H  43.773136 -79.239476"
      ]
     },
     "execution_count": 15,
     "metadata": {},
     "output_type": "execute_result"
    }
   ],
   "source": [
    "df_togeo = pd.read_csv('toronto_geo.csv')\n",
    "df_togeo.head()"
   ]
  },
  {
   "cell_type": "code",
   "execution_count": 16,
   "metadata": {},
   "outputs": [],
   "source": [
    "codes = df_poscode.loc[cond, 'Postal code'].values\n",
    "ll = df_togeo.loc[df_togeo['Postal Code'].isin(codes), ['Latitude', 'Longitude']].values\n",
    "\n",
    "df_poscode.loc[cond, ['Latitude', 'Longitude']] = ll"
   ]
  },
  {
   "cell_type": "markdown",
   "metadata": {},
   "source": [
    "Final check to see if the previously missing data have been filled in:"
   ]
  },
  {
   "cell_type": "code",
   "execution_count": 17,
   "metadata": {},
   "outputs": [
    {
     "data": {
      "text/html": [
       "<div>\n",
       "<style scoped>\n",
       "    .dataframe tbody tr th:only-of-type {\n",
       "        vertical-align: middle;\n",
       "    }\n",
       "\n",
       "    .dataframe tbody tr th {\n",
       "        vertical-align: top;\n",
       "    }\n",
       "\n",
       "    .dataframe thead th {\n",
       "        text-align: right;\n",
       "    }\n",
       "</style>\n",
       "<table border=\"1\" class=\"dataframe\">\n",
       "  <thead>\n",
       "    <tr style=\"text-align: right;\">\n",
       "      <th></th>\n",
       "      <th>Postal code</th>\n",
       "      <th>Borough</th>\n",
       "      <th>Neighborhood</th>\n",
       "      <th>Latitude</th>\n",
       "      <th>Longitude</th>\n",
       "    </tr>\n",
       "  </thead>\n",
       "  <tbody>\n",
       "    <tr>\n",
       "      <th>76</th>\n",
       "      <td>M7R</td>\n",
       "      <td>Mississauga</td>\n",
       "      <td>Canada Post Gateway Processing Centre</td>\n",
       "      <td>43.636966</td>\n",
       "      <td>-79.615819</td>\n",
       "    </tr>\n",
       "  </tbody>\n",
       "</table>\n",
       "</div>"
      ],
      "text/plain": [
       "   Postal code      Borough                           Neighborhood   Latitude  \\\n",
       "76         M7R  Mississauga  Canada Post Gateway Processing Centre  43.636966   \n",
       "\n",
       "    Longitude  \n",
       "76 -79.615819  "
      ]
     },
     "execution_count": 17,
     "metadata": {},
     "output_type": "execute_result"
    }
   ],
   "source": [
    "df_poscode[df_poscode['Postal code'].isin(codes)]"
   ]
  },
  {
   "cell_type": "markdown",
   "metadata": {},
   "source": [
    "### View of the geo-referenced dataframe"
   ]
  },
  {
   "cell_type": "markdown",
   "metadata": {},
   "source": [
    "The final version of the dataframe looks as follows:"
   ]
  },
  {
   "cell_type": "code",
   "execution_count": 64,
   "metadata": {},
   "outputs": [
    {
     "data": {
      "text/html": [
       "<div>\n",
       "<style scoped>\n",
       "    .dataframe tbody tr th:only-of-type {\n",
       "        vertical-align: middle;\n",
       "    }\n",
       "\n",
       "    .dataframe tbody tr th {\n",
       "        vertical-align: top;\n",
       "    }\n",
       "\n",
       "    .dataframe thead th {\n",
       "        text-align: right;\n",
       "    }\n",
       "</style>\n",
       "<table border=\"1\" class=\"dataframe\">\n",
       "  <thead>\n",
       "    <tr style=\"text-align: right;\">\n",
       "      <th></th>\n",
       "      <th>Postal code</th>\n",
       "      <th>Borough</th>\n",
       "      <th>Neighborhood</th>\n",
       "      <th>Latitude</th>\n",
       "      <th>Longitude</th>\n",
       "    </tr>\n",
       "  </thead>\n",
       "  <tbody>\n",
       "    <tr>\n",
       "      <th>0</th>\n",
       "      <td>M3A</td>\n",
       "      <td>North York</td>\n",
       "      <td>Parkwoods</td>\n",
       "      <td>43.7545</td>\n",
       "      <td>-79.3300</td>\n",
       "    </tr>\n",
       "    <tr>\n",
       "      <th>1</th>\n",
       "      <td>M4A</td>\n",
       "      <td>North York</td>\n",
       "      <td>Victoria Village</td>\n",
       "      <td>43.7276</td>\n",
       "      <td>-79.3148</td>\n",
       "    </tr>\n",
       "    <tr>\n",
       "      <th>2</th>\n",
       "      <td>M5A</td>\n",
       "      <td>Downtown Toronto</td>\n",
       "      <td>Regent Park, Harbourfront</td>\n",
       "      <td>43.6555</td>\n",
       "      <td>-79.3626</td>\n",
       "    </tr>\n",
       "    <tr>\n",
       "      <th>3</th>\n",
       "      <td>M6A</td>\n",
       "      <td>North York</td>\n",
       "      <td>Lawrence Manor, Lawrence Heights</td>\n",
       "      <td>43.7223</td>\n",
       "      <td>-79.4504</td>\n",
       "    </tr>\n",
       "    <tr>\n",
       "      <th>4</th>\n",
       "      <td>M7A</td>\n",
       "      <td>Downtown Toronto</td>\n",
       "      <td>Queen's Park, Ontario Provincial Government</td>\n",
       "      <td>43.6641</td>\n",
       "      <td>-79.3889</td>\n",
       "    </tr>\n",
       "  </tbody>\n",
       "</table>\n",
       "</div>"
      ],
      "text/plain": [
       "  Postal code           Borough                                 Neighborhood  \\\n",
       "0         M3A        North York                                    Parkwoods   \n",
       "1         M4A        North York                             Victoria Village   \n",
       "2         M5A  Downtown Toronto                    Regent Park, Harbourfront   \n",
       "3         M6A        North York             Lawrence Manor, Lawrence Heights   \n",
       "4         M7A  Downtown Toronto  Queen's Park, Ontario Provincial Government   \n",
       "\n",
       "   Latitude  Longitude  \n",
       "0   43.7545   -79.3300  \n",
       "1   43.7276   -79.3148  \n",
       "2   43.6555   -79.3626  \n",
       "3   43.7223   -79.4504  \n",
       "4   43.6641   -79.3889  "
      ]
     },
     "execution_count": 64,
     "metadata": {},
     "output_type": "execute_result"
    }
   ],
   "source": [
    "df_poscode.head()"
   ]
  },
  {
   "cell_type": "markdown",
   "metadata": {},
   "source": [
    "Now that the dataset is ready, it is possible to create a first map of neighborhoods within Toronto that is centered on the city center itself"
   ]
  },
  {
   "cell_type": "code",
   "execution_count": 18,
   "metadata": {},
   "outputs": [],
   "source": [
    "address='Toronto, Ontario'\n",
    "geolocator = Nominatim(user_agent=\"to_explorer\")\n",
    "location = geolocator.geocode(address)\n",
    "to_lat, to_long = location.latitude, location.longitude\n",
    "\n",
    "map_toronto = folium.Map(location=[to_lat, to_long], zoom_start=11)"
   ]
  },
  {
   "cell_type": "code",
   "execution_count": 19,
   "metadata": {},
   "outputs": [],
   "source": [
    "# add markers to map\n",
    "for lat, lng, label in zip(df_poscode['Latitude'], df_poscode['Longitude'], df_poscode['Neighborhood']):\n",
    "    try:\n",
    "        label = folium.Popup(label, parse_html=True)\n",
    "        folium.CircleMarker(\n",
    "        [lat, lng],\n",
    "        radius=5,\n",
    "        popup=label,\n",
    "        color='blue',\n",
    "        fill=True,\n",
    "        fill_color='#3186cc',\n",
    "        fill_opacity=0.7,\n",
    "        parse_html=False).add_to(map_toronto)\n",
    "    except:\n",
    "        pass"
   ]
  },
  {
   "cell_type": "code",
   "execution_count": 20,
   "metadata": {
    "scrolled": true
   },
   "outputs": [
    {
     "data": {
      "text/html": [
       "<div style=\"width:100%;\"><div style=\"position:relative;width:100%;height:0;padding-bottom:60%;\"><iframe src=\"data:text/html;charset=utf-8;base64,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\" style=\"position:absolute;width:100%;height:100%;left:0;top:0;border:none !important;\" allowfullscreen webkitallowfullscreen mozallowfullscreen></iframe></div></div>"
      ],
      "text/plain": [
       "<folium.folium.Map at 0x24f5293fe80>"
      ]
     },
     "execution_count": 20,
     "metadata": {},
     "output_type": "execute_result"
    }
   ],
   "source": [
    "map_toronto"
   ]
  }
 ],
 "metadata": {
  "kernelspec": {
   "display_name": "Python 3",
   "language": "python",
   "name": "python3"
  },
  "language_info": {
   "codemirror_mode": {
    "name": "ipython",
    "version": 3
   },
   "file_extension": ".py",
   "mimetype": "text/x-python",
   "name": "python",
   "nbconvert_exporter": "python",
   "pygments_lexer": "ipython3",
   "version": "3.6.3"
  }
 },
 "nbformat": 4,
 "nbformat_minor": 2
}
